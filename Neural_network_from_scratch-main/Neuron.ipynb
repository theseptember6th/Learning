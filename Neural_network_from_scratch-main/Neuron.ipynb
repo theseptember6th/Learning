{
  "nbformat": 4,
  "nbformat_minor": 0,
  "metadata": {
    "colab": {
      "name": "Neuron.ipynb",
      "provenance": [],
      "collapsed_sections": []
    },
    "kernelspec": {
      "name": "python3",
      "display_name": "Python 3"
    },
    "language_info": {
      "name": "python"
    }
  },
  "cells": [
    {
      "cell_type": "markdown",
      "source": [
        "##Let's code a basic neuron"
      ],
      "metadata": {
        "id": "hFPZDF5jsxPz"
      }
    },
    {
      "cell_type": "markdown",
      "source": [
        "![Screenshot 2021-12-18 092157.png](data:image/png;base64,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)"
      ],
      "metadata": {
        "id": "kPF7unLMskFA"
      }
    },
    {
      "cell_type": "code",
      "source": [
        "inputs = [2,4,7]\n",
        "weights = [0.3, 0.5, -0.2]\n",
        "bias = 2\n",
        "\n",
        "output = inputs[0]*weights[0] + inputs[1]*weights[1] + inputs[2]*weights[2] + bias\n",
        "print(output)"
      ],
      "metadata": {
        "id": "n5j_GUNWwp7p",
        "colab": {
          "base_uri": "https://localhost:8080/"
        },
        "outputId": "ba70d836-97e4-435d-b755-d8e98dd6c9b8"
      },
      "execution_count": null,
      "outputs": [
        {
          "output_type": "stream",
          "name": "stdout",
          "text": [
            "3.2\n"
          ]
        }
      ]
    },
    {
      "cell_type": "markdown",
      "source": [
        "![Screenshot 2021-12-18 110511.png](data:image/png;base64,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)"
      ],
      "metadata": {
        "id": "L7_n1A1WCZ41"
      }
    },
    {
      "cell_type": "code",
      "source": [
        "inputs = [1,2,3,4]\n",
        "weights = [2,3,4,5]\n",
        "bias = 5\n",
        "\n",
        "output = inputs[0]*weights[0] + inputs[1]*weights[1] + inputs[2]*weights[2] + inputs[3]* weights[3] + bias\n",
        "print(output)"
      ],
      "metadata": {
        "colab": {
          "base_uri": "https://localhost:8080/"
        },
        "id": "GOjB4TlICg8V",
        "outputId": "9287023c-395c-49ad-b875-dbcf1443474b"
      },
      "execution_count": null,
      "outputs": [
        {
          "output_type": "stream",
          "name": "stdout",
          "text": [
            "45\n"
          ]
        }
      ]
    },
    {
      "cell_type": "markdown",
      "source": [
        "![neu.png](data:image/png;base64,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)"
      ],
      "metadata": {
        "id": "E1LgW-xzC1ZE"
      }
    },
    {
      "cell_type": "code",
      "source": [
        "inputs = weights = list(range(1,11))\n",
        "print(inputs)\n",
        "print(weights)\n",
        "bias =10\n",
        "output=0\n",
        "for i in range(len(inputs)):\n",
        "  output+=inputs[i]*weights[i]\n",
        "output+=bias\n",
        "\n",
        "print(output)"
      ],
      "metadata": {
        "colab": {
          "base_uri": "https://localhost:8080/"
        },
        "id": "a87wN12NFJ8e",
        "outputId": "d016cb18-34ad-468e-ea86-29a8ae7471a7"
      },
      "execution_count": null,
      "outputs": [
        {
          "output_type": "stream",
          "name": "stdout",
          "text": [
            "[1, 2, 3, 4, 5, 6, 7, 8, 9, 10]\n",
            "[1, 2, 3, 4, 5, 6, 7, 8, 9, 10]\n",
            "395\n"
          ]
        }
      ]
    },
    {
      "cell_type": "markdown",
      "source": [
        "## With Numpy"
      ],
      "metadata": {
        "id": "m6cdMhmuGcZw"
      }
    },
    {
      "cell_type": "code",
      "source": [
        "import numpy as np\n",
        "\n",
        "output = np.dot(inputs, weights) + bias\n",
        "print(output)"
      ],
      "metadata": {
        "colab": {
          "base_uri": "https://localhost:8080/"
        },
        "id": "pbilRs5nGeQj",
        "outputId": "fa16ef2b-233d-4b35-b1be-c48088bef9f6"
      },
      "execution_count": null,
      "outputs": [
        {
          "output_type": "stream",
          "name": "stdout",
          "text": [
            "395\n"
          ]
        }
      ]
    },
    {
      "cell_type": "markdown",
      "source": [
        "## ReLU activation"
      ],
      "metadata": {
        "id": "8-_Vx12GRyaP"
      }
    },
    {
      "cell_type": "code",
      "source": [
        "# y=max(0,x)\n",
        "\n",
        "Y = max(0, output)\n",
        "print(Y)"
      ],
      "metadata": {
        "colab": {
          "base_uri": "https://localhost:8080/"
        },
        "id": "118KYRBeR1_z",
        "outputId": "6d950a9e-e942-45b9-e47b-83ae33a64c11"
      },
      "execution_count": null,
      "outputs": [
        {
          "output_type": "stream",
          "name": "stdout",
          "text": [
            "395\n"
          ]
        }
      ]
    },
    {
      "cell_type": "code",
      "source": [
        "inputs = [-1,-2,-3]\n",
        "weights = [0.2, 0.3, 0.4]\n",
        "bias = -10\n",
        "\n",
        "output = inputs[0]*weights[0] + inputs[1]*weights[1] + inputs[2]*weights[2] + bias\n",
        "print(output)"
      ],
      "metadata": {
        "id": "klAbP-Cco5tV"
      },
      "execution_count": null,
      "outputs": []
    },
    {
      "cell_type": "markdown",
      "source": [
        "## Using numpy"
      ],
      "metadata": {
        "id": "IWQyovdRhDLV"
      }
    },
    {
      "cell_type": "code",
      "source": [
        "import numpy as np\n",
        "\n",
        "inputs = np.random.randint(0,10, 3)\n",
        "weights = np.random.random(3)\n",
        "print(inputs, weights)\n",
        "bias = 10\n",
        "\n",
        "output = np.dot(inputs, weights) + bias\n",
        "print(output)"
      ],
      "metadata": {
        "colab": {
          "base_uri": "https://localhost:8080/"
        },
        "id": "CsFi665e-FCN",
        "outputId": "1f2e1cf2-5114-4e81-a496-ba0dc9db67e5"
      },
      "execution_count": 4,
      "outputs": [
        {
          "output_type": "stream",
          "name": "stdout",
          "text": [
            "[2 7 1] [0.2931038  0.64871474 0.00593988]\n",
            "15.13315066257771\n"
          ]
        }
      ]
    },
    {
      "cell_type": "markdown",
      "source": [
        "## Coding a single layer"
      ],
      "metadata": {
        "id": "dxp2aEnQaUeJ"
      }
    },
    {
      "cell_type": "markdown",
      "source": [
        "![single_layer.png](data:image/png;base64,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)"
      ],
      "metadata": {
        "id": "zhV6YvGbnFM4"
      }
    },
    {
      "cell_type": "code",
      "source": [
        "inputs = [1,2,3]\n",
        "weights = [[0.1, 0.2, 0.3], [0.2, 0.4,0.7], [0.4,0.6,0.8], [0.4, 0.7, 0.3]]\n",
        "\n",
        "output1 = inputs[0]* weights[0][0] + inputs[1]*weights[0][1] + inputs[2]*weights[0][2]\n",
        "output2 = inputs[0]* weights[1][0] + inputs[1]*weights[1][1] + inputs[2]*weights[1][2]\n",
        "output3 = inputs[0]* weights[2][0] + inputs[1]*weights[2][1] + inputs[2]*weights[2][2]\n",
        "output4 = inputs[0]* weights[3][0] + inputs[1]*weights[3][1] + inputs[2]*weights[3][2]\n",
        "print(output1, output2, output3, output4)\n",
        "\n",
        "\n"
      ],
      "metadata": {
        "colab": {
          "base_uri": "https://localhost:8080/"
        },
        "id": "Y0WAZ_WQ_I-C",
        "outputId": "c71ee1ed-6aa7-4c7c-e411-260e9d14dead"
      },
      "execution_count": 6,
      "outputs": [
        {
          "output_type": "stream",
          "name": "stdout",
          "text": [
            "1.4 3.0999999999999996 4.0 2.6999999999999997\n"
          ]
        }
      ]
    },
    {
      "cell_type": "markdown",
      "source": [
        "## With Numpy arrays"
      ],
      "metadata": {
        "id": "iftedwDgg8Ql"
      }
    },
    {
      "cell_type": "code",
      "source": [
        "inputs = np.random.randint(0,10,3)  \n",
        "weights = np.random.random((4,3))  # 4 neurons, 3 weights for each neuron\n",
        "biases = np.random.randint(0,5,4)\n",
        "print(inputs.shape, weights.shape)\n",
        "output = np.dot(inputs, weights.T) + biases  # column of first = rows of second\n",
        "print(output)"
      ],
      "metadata": {
        "colab": {
          "base_uri": "https://localhost:8080/"
        },
        "id": "A2oBeBm6At5m",
        "outputId": "1b8440b9-1301-49fb-85d4-a3c213bcd26b"
      },
      "execution_count": 11,
      "outputs": [
        {
          "output_type": "stream",
          "name": "stdout",
          "text": [
            "(3,) (4, 3)\n",
            "[ 8.31203213  5.2851841  11.64411274  8.3024926 ]\n"
          ]
        }
      ]
    },
    {
      "cell_type": "markdown",
      "source": [
        "## Coding a 2-layer network"
      ],
      "metadata": {
        "id": "U5c52aEUmjFm"
      }
    },
    {
      "cell_type": "markdown",
      "source": [
        "![2-layer.png](data:image/png;base64,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)"
      ],
      "metadata": {
        "id": "Myq--_MOmmzM"
      }
    },
    {
      "cell_type": "code",
      "source": [
        "inputs = np.random.randint(0,10,3) # 3 inputs \n",
        "weights1 = np.random.random((4,3))  # 4 neurons, 3 weights for each neuron\n",
        "biases1 = np.random.randint(0,5,4)  # for layer-1\n",
        "\n",
        "output1 = np.dot(inputs, weights1.T) + biases1\n",
        "print(output1)\n",
        "\n",
        "weights2 = np.random.random((3,4))\n",
        "biases2 = np.random.randint(0,5,3)\n",
        "\n",
        "output2 = np.dot(output1, weights2.T) + biases2\n",
        "print(output2)"
      ],
      "metadata": {
        "colab": {
          "base_uri": "https://localhost:8080/"
        },
        "id": "mUIt42h2CmvF",
        "outputId": "c2bd9195-87c5-4af4-dcd9-7cd25c888033"
      },
      "execution_count": 14,
      "outputs": [
        {
          "output_type": "stream",
          "name": "stdout",
          "text": [
            "[11.36336456 14.99939339 16.04654989 16.59719132]\n",
            "[21.07630852 44.44964968 10.78355881]\n"
          ]
        }
      ]
    },
    {
      "cell_type": "markdown",
      "source": [
        "## More structured way using python class"
      ],
      "metadata": {
        "id": "tTuy_aCjtxm2"
      }
    },
    {
      "cell_type": "code",
      "source": [
        "class Layer:\n",
        "  def __init__(self, n_inputs, n_neurons):   # weights, biases\n",
        "    self.weights = np.random.random((n_neurons, n_inputs))\n",
        "    self.biases = np.random.randint(0,10, n_neurons)\n",
        "  def forward(self, inputs):\n",
        "    self.output = np.dot(inputs, self.weights.T) + self.biases\n",
        "\n",
        "inputs = [1,2,3]\n",
        "layer1 = Layer(3, 4)\n",
        "\n",
        "layer1.forward(inputs)\n",
        "print(layer1.output)\n",
        "\n",
        "layer2 = Layer(4,3)\n",
        "layer2.forward(layer1.output)\n",
        "print(layer2.output)\n",
        "\n",
        "layer3 = Layer(3,2)\n",
        "layer3.forward(layer2.output)\n",
        "print(layer3.output)"
      ],
      "metadata": {
        "colab": {
          "base_uri": "https://localhost:8080/"
        },
        "id": "JER2Iy3kDs6C",
        "outputId": "96408d1f-1282-44df-ee1c-1de547ccde09"
      },
      "execution_count": 17,
      "outputs": [
        {
          "output_type": "stream",
          "name": "stdout",
          "text": [
            "[3.55934596 4.84599851 4.94334924 5.44606618]\n",
            "[ 9.08761763 15.40323082 10.6949315 ]\n",
            "[13.63189314 29.22322827]\n"
          ]
        }
      ]
    },
    {
      "cell_type": "markdown",
      "source": [
        "## For batch of inputs"
      ],
      "metadata": {
        "id": "LW6Dq9i1vkm0"
      }
    },
    {
      "cell_type": "code",
      "source": [
        "inputs = np.random.random((10,3))\n",
        "print(inputs)\n",
        "\n"
      ],
      "metadata": {
        "colab": {
          "base_uri": "https://localhost:8080/"
        },
        "id": "YiP9S64x0dnm",
        "outputId": "1279d05b-2dc1-4a84-d6ce-a6842dd6d19b"
      },
      "execution_count": 26,
      "outputs": [
        {
          "output_type": "stream",
          "name": "stdout",
          "text": [
            "[[0.47925576 0.83944197 0.57427862]\n",
            " [0.82347153 0.29392394 0.70050236]\n",
            " [0.52523646 0.82393327 0.21326054]\n",
            " [0.08053314 0.38801498 0.40676828]\n",
            " [0.02334858 0.40897513 0.00964761]\n",
            " [0.24384028 0.4557888  0.398395  ]\n",
            " [0.25238313 0.43948285 0.57023017]\n",
            " [0.39448225 0.91726314 0.55078519]\n",
            " [0.54026934 0.35039258 0.54118671]\n",
            " [0.26510756 0.73233414 0.80572698]]\n"
          ]
        }
      ]
    },
    {
      "cell_type": "code",
      "source": [
        "weights = np.random.random((4,3))\n",
        "biases = [2,3,4,5]\n",
        "\n",
        "output = np.dot(inputs, weights.T) + biases\n",
        "print(output)"
      ],
      "metadata": {
        "colab": {
          "base_uri": "https://localhost:8080/"
        },
        "id": "Gf4_Mye-GhVg",
        "outputId": "1c3ab294-4521-4bef-8622-aef7b173652b"
      },
      "execution_count": 27,
      "outputs": [
        {
          "output_type": "stream",
          "name": "stdout",
          "text": [
            "[[2.79058721 3.75986339 4.98006134 6.25299079]\n",
            " [2.78414191 3.96571228 4.89660306 6.03573326]\n",
            " [2.80267076 3.6287953  4.89814579 5.94905203]\n",
            " [2.26632026 3.3121073  4.40382311 5.66052892]\n",
            " [2.21815519 3.09669206 4.26920281 5.32628791]\n",
            " [2.42056403 3.43944131 4.54612269 5.74895199]\n",
            " [2.42581862 3.51955335 4.58970735 5.88371524]\n",
            " [2.76477757 3.70214105 4.96794582 6.26979023]\n",
            " [2.59494808 3.69916953 4.70815099 5.86849267]\n",
            " [2.58823635 3.68820947 4.84412658 6.30905291]]\n"
          ]
        }
      ]
    },
    {
      "cell_type": "code",
      "source": [
        ""
      ],
      "metadata": {
        "id": "iV-dZt7oG0nv"
      },
      "execution_count": null,
      "outputs": []
    }
  ]
}